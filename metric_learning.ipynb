{
  "cells": [
    {
      "cell_type": "markdown",
      "metadata": {
        "id": "sJkGptOvmiRo"
      },
      "source": [
        "### Instalando as bibliotecas necessárias"
      ]
    },
    {
      "cell_type": "code",
      "execution_count": null,
      "metadata": {
        "colab": {
          "base_uri": "https://localhost:8080/"
        },
        "id": "hWCtovLxhgK3",
        "outputId": "54477bdb-c4eb-4762-b7f4-722fd8e7e7cb"
      },
      "outputs": [
        {
          "name": "stdout",
          "output_type": "stream",
          "text": [
            "Looking in indexes: https://pypi.org/simple, https://us-python.pkg.dev/colab-wheels/public/simple/\n",
            "Requirement already satisfied: pip in /usr/local/lib/python3.10/dist-packages (23.1.2)\n"
          ]
        }
      ],
      "source": [
        "!pip install --upgrade pip"
      ]
    },
    {
      "cell_type": "code",
      "execution_count": 12,
      "metadata": {
        "colab": {
          "base_uri": "https://localhost:8080/"
        },
        "id": "kFwIbjI9io9S",
        "outputId": "d6c64d01-feb3-4187-b58a-cd18764ab32c"
      },
      "outputs": [
        {
          "output_type": "stream",
          "name": "stdout",
          "text": [
            "Looking in indexes: https://pypi.org/simple, https://us-python.pkg.dev/colab-wheels/public/simple/\n",
            "Requirement already satisfied: mxnet==1.8.0.post0 in /usr/local/lib/python3.10/dist-packages (1.8.0.post0)\n",
            "Requirement already satisfied: numpy<2.0.0,>1.16.0 in /usr/local/lib/python3.10/dist-packages (from mxnet==1.8.0.post0) (1.22.4)\n",
            "Requirement already satisfied: requests<3,>=2.20.0 in /usr/local/lib/python3.10/dist-packages (from mxnet==1.8.0.post0) (2.27.1)\n",
            "Requirement already satisfied: graphviz<0.9.0,>=0.8.1 in /usr/local/lib/python3.10/dist-packages (from mxnet==1.8.0.post0) (0.8.4)\n",
            "Requirement already satisfied: urllib3<1.27,>=1.21.1 in /usr/local/lib/python3.10/dist-packages (from requests<3,>=2.20.0->mxnet==1.8.0.post0) (1.26.15)\n",
            "Requirement already satisfied: certifi>=2017.4.17 in /usr/local/lib/python3.10/dist-packages (from requests<3,>=2.20.0->mxnet==1.8.0.post0) (2022.12.7)\n",
            "Requirement already satisfied: charset-normalizer~=2.0.0 in /usr/local/lib/python3.10/dist-packages (from requests<3,>=2.20.0->mxnet==1.8.0.post0) (2.0.12)\n",
            "Requirement already satisfied: idna<4,>=2.5 in /usr/local/lib/python3.10/dist-packages (from requests<3,>=2.20.0->mxnet==1.8.0.post0) (3.4)\n",
            "Looking in indexes: https://pypi.org/simple, https://us-python.pkg.dev/colab-wheels/public/simple/\n",
            "Requirement already satisfied: insightface==0.2.1 in /usr/local/lib/python3.10/dist-packages (0.2.1)\n",
            "Requirement already satisfied: numpy in /usr/local/lib/python3.10/dist-packages (from insightface==0.2.1) (1.22.4)\n",
            "Requirement already satisfied: onnx in /usr/local/lib/python3.10/dist-packages (from insightface==0.2.1) (1.14.0)\n",
            "Requirement already satisfied: tqdm in /usr/local/lib/python3.10/dist-packages (from insightface==0.2.1) (4.65.0)\n",
            "Requirement already satisfied: requests in /usr/local/lib/python3.10/dist-packages (from insightface==0.2.1) (2.27.1)\n",
            "Requirement already satisfied: matplotlib in /usr/local/lib/python3.10/dist-packages (from insightface==0.2.1) (3.7.1)\n",
            "Requirement already satisfied: Pillow in /usr/local/lib/python3.10/dist-packages (from insightface==0.2.1) (8.4.0)\n",
            "Requirement already satisfied: scipy in /usr/local/lib/python3.10/dist-packages (from insightface==0.2.1) (1.10.1)\n",
            "Requirement already satisfied: opencv-python in /usr/local/lib/python3.10/dist-packages (from insightface==0.2.1) (4.7.0.72)\n",
            "Requirement already satisfied: scikit-learn in /usr/local/lib/python3.10/dist-packages (from insightface==0.2.1) (1.2.2)\n",
            "Requirement already satisfied: scikit-image in /usr/local/lib/python3.10/dist-packages (from insightface==0.2.1) (0.19.3)\n",
            "Requirement already satisfied: easydict in /usr/local/lib/python3.10/dist-packages (from insightface==0.2.1) (1.10)\n",
            "Requirement already satisfied: contourpy>=1.0.1 in /usr/local/lib/python3.10/dist-packages (from matplotlib->insightface==0.2.1) (1.0.7)\n",
            "Requirement already satisfied: cycler>=0.10 in /usr/local/lib/python3.10/dist-packages (from matplotlib->insightface==0.2.1) (0.11.0)\n",
            "Requirement already satisfied: fonttools>=4.22.0 in /usr/local/lib/python3.10/dist-packages (from matplotlib->insightface==0.2.1) (4.39.3)\n",
            "Requirement already satisfied: kiwisolver>=1.0.1 in /usr/local/lib/python3.10/dist-packages (from matplotlib->insightface==0.2.1) (1.4.4)\n",
            "Requirement already satisfied: packaging>=20.0 in /usr/local/lib/python3.10/dist-packages (from matplotlib->insightface==0.2.1) (23.1)\n",
            "Requirement already satisfied: pyparsing>=2.3.1 in /usr/local/lib/python3.10/dist-packages (from matplotlib->insightface==0.2.1) (3.0.9)\n",
            "Requirement already satisfied: python-dateutil>=2.7 in /usr/local/lib/python3.10/dist-packages (from matplotlib->insightface==0.2.1) (2.8.2)\n",
            "Requirement already satisfied: protobuf>=3.20.2 in /usr/local/lib/python3.10/dist-packages (from onnx->insightface==0.2.1) (3.20.3)\n",
            "Requirement already satisfied: typing-extensions>=3.6.2.1 in /usr/local/lib/python3.10/dist-packages (from onnx->insightface==0.2.1) (4.5.0)\n",
            "Requirement already satisfied: urllib3<1.27,>=1.21.1 in /usr/local/lib/python3.10/dist-packages (from requests->insightface==0.2.1) (1.26.15)\n",
            "Requirement already satisfied: certifi>=2017.4.17 in /usr/local/lib/python3.10/dist-packages (from requests->insightface==0.2.1) (2022.12.7)\n",
            "Requirement already satisfied: charset-normalizer~=2.0.0 in /usr/local/lib/python3.10/dist-packages (from requests->insightface==0.2.1) (2.0.12)\n",
            "Requirement already satisfied: idna<4,>=2.5 in /usr/local/lib/python3.10/dist-packages (from requests->insightface==0.2.1) (3.4)\n",
            "Requirement already satisfied: networkx>=2.2 in /usr/local/lib/python3.10/dist-packages (from scikit-image->insightface==0.2.1) (3.1)\n",
            "Requirement already satisfied: imageio>=2.4.1 in /usr/local/lib/python3.10/dist-packages (from scikit-image->insightface==0.2.1) (2.25.1)\n",
            "Requirement already satisfied: tifffile>=2019.7.26 in /usr/local/lib/python3.10/dist-packages (from scikit-image->insightface==0.2.1) (2023.4.12)\n",
            "Requirement already satisfied: PyWavelets>=1.1.1 in /usr/local/lib/python3.10/dist-packages (from scikit-image->insightface==0.2.1) (1.4.1)\n",
            "Requirement already satisfied: joblib>=1.1.1 in /usr/local/lib/python3.10/dist-packages (from scikit-learn->insightface==0.2.1) (1.2.0)\n",
            "Requirement already satisfied: threadpoolctl>=2.0.0 in /usr/local/lib/python3.10/dist-packages (from scikit-learn->insightface==0.2.1) (3.1.0)\n",
            "Requirement already satisfied: six>=1.5 in /usr/local/lib/python3.10/dist-packages (from python-dateutil>=2.7->matplotlib->insightface==0.2.1) (1.16.0)\n",
            "Looking in indexes: https://pypi.org/simple, https://us-python.pkg.dev/colab-wheels/public/simple/\n",
            "Requirement already satisfied: onnx in /usr/local/lib/python3.10/dist-packages (1.14.0)\n",
            "Requirement already satisfied: numpy in /usr/local/lib/python3.10/dist-packages (from onnx) (1.22.4)\n",
            "Requirement already satisfied: protobuf>=3.20.2 in /usr/local/lib/python3.10/dist-packages (from onnx) (3.20.3)\n",
            "Requirement already satisfied: typing-extensions>=3.6.2.1 in /usr/local/lib/python3.10/dist-packages (from onnx) (4.5.0)\n",
            "Looking in indexes: https://pypi.org/simple, https://us-python.pkg.dev/colab-wheels/public/simple/\n",
            "Requirement already satisfied: onnxruntime in /usr/local/lib/python3.10/dist-packages (1.14.1)\n",
            "Requirement already satisfied: coloredlogs in /usr/local/lib/python3.10/dist-packages (from onnxruntime) (15.0.1)\n",
            "Requirement already satisfied: flatbuffers in /usr/local/lib/python3.10/dist-packages (from onnxruntime) (23.3.3)\n",
            "Requirement already satisfied: numpy>=1.21.6 in /usr/local/lib/python3.10/dist-packages (from onnxruntime) (1.22.4)\n",
            "Requirement already satisfied: packaging in /usr/local/lib/python3.10/dist-packages (from onnxruntime) (23.1)\n",
            "Requirement already satisfied: protobuf in /usr/local/lib/python3.10/dist-packages (from onnxruntime) (3.20.3)\n",
            "Requirement already satisfied: sympy in /usr/local/lib/python3.10/dist-packages (from onnxruntime) (1.11.1)\n",
            "Requirement already satisfied: humanfriendly>=9.1 in /usr/local/lib/python3.10/dist-packages (from coloredlogs->onnxruntime) (10.0)\n",
            "Requirement already satisfied: mpmath>=0.19 in /usr/local/lib/python3.10/dist-packages (from sympy->onnxruntime) (1.3.0)\n"
          ]
        }
      ],
      "source": [
        "!pip install mxnet==1.8.0.post0\n",
        "!pip install -U insightface==0.2.1\n",
        "!pip install onnx\n",
        "!pip install onnxruntime"
      ]
    },
    {
      "cell_type": "markdown",
      "metadata": {
        "id": "XoA2Gn3am7Bb"
      },
      "source": [
        "Importando o modelo antelope do drive. Ele contém dois modelos pré-treinados, para deteção e reconhecimento, que estão no formato .onnx"
      ]
    },
    {
      "cell_type": "code",
      "execution_count": 13,
      "metadata": {
        "colab": {
          "base_uri": "https://localhost:8080/"
        },
        "id": "mvbKUv04kKVm",
        "outputId": "c0592f6a-bf81-4dc9-b7c5-3ef4a52b6f7d"
      },
      "outputs": [
        {
          "output_type": "stream",
          "name": "stdout",
          "text": [
            "Drive already mounted at /content/drive/; to attempt to forcibly remount, call drive.mount(\"/content/drive/\", force_remount=True).\n"
          ]
        }
      ],
      "source": [
        "from google.colab import drive\n",
        "drive.mount('/content/drive/')"
      ]
    },
    {
      "cell_type": "code",
      "execution_count": null,
      "metadata": {
        "id": "VzDNgxr5lcXG"
      },
      "outputs": [],
      "source": [
        "!unzip /content/drive/MyDrive/antelope/antelope.zip -d /content/drive/MyDrive/antelope"
      ]
    },
    {
      "cell_type": "code",
      "execution_count": null,
      "metadata": {
        "id": "t575O196l_XA"
      },
      "outputs": [],
      "source": [
        "# importando as bibliotecas que serão utilizadas\n",
        "import os\n",
        "import pickle\n",
        "import numpy as np\n",
        "from PIL import Image\n",
        "from typing import List\n",
        "from tqdm import tqdm\n",
        "import os\n",
        "import cv2\n",
        "from matplotlib import pyplot as plt\n",
        "from google.colab.patches import cv2_imshow\n",
        "from insightface.app import FaceAnalysis\n",
        "from insightface.model_zoo import ArcFaceONNX\n",
        "from sklearn.neighbors import NearestNeighbors"
      ]
    },
    {
      "cell_type": "markdown",
      "metadata": {
        "id": "6LN_lXIkRHof"
      },
      "source": [
        "Utilizando um modelo pronto"
      ]
    },
    {
      "cell_type": "code",
      "execution_count": null,
      "metadata": {
        "colab": {
          "base_uri": "https://localhost:8080/"
        },
        "id": "e4kir7l3oKEb",
        "outputId": "59259b8d-cc08-4446-e47d-491b5d92bb3d"
      },
      "outputs": [
        {
          "name": "stdout",
          "output_type": "stream",
          "text": [
            "input mean and std: 127.5 127.5\n",
            "find model: /content/drive/MyDrive/antelope/antelope/glintr100.onnx recognition\n",
            "find model: /content/drive/MyDrive/antelope/antelope/scrfd_10g_bnkps.onnx detection\n",
            "set det-size: (320, 320)\n"
          ]
        }
      ],
      "source": [
        "app = FaceAnalysis(name=\"/content/drive/MyDrive/antelope/antelope/\")\n",
        "app.prepare(ctx_id=0, det_size=(320, 320)) "
      ]
    },
    {
      "cell_type": "markdown",
      "metadata": {
        "id": "lGoVXGydRRWy"
      },
      "source": [
        "Adicionando nosso dataset em um dicionário"
      ]
    },
    {
      "cell_type": "code",
      "execution_count": null,
      "metadata": {
        "colab": {
          "background_save": true,
          "base_uri": "https://localhost:8080/"
        },
        "id": "2dIBjtb7rBS_",
        "outputId": "6d809e21-bf94-4f65-9439-97e5ff69b160"
      },
      "outputs": [
        {
          "name": "stderr",
          "output_type": "stream",
          "text": [
            "Reading Images: 100%|██████████| 12000/12000 [48:25<00:00,  4.13image/s]\n"
          ]
        }
      ],
      "source": [
        "import os\n",
        "import cv2\n",
        "from tqdm import tqdm\n",
        "\n",
        "rootdir = \"/content/drive/MyDrive/data/post-processed/\"\n",
        "imgs = {}\n",
        "total_files = sum([len(files) for _, _, files in os.walk(rootdir)])\n",
        "\n",
        "with tqdm(total=total_files, desc=\"Reading Images\", unit=\"image\") as pbar:\n",
        "    for subdir, dirs, files in os.walk(rootdir):\n",
        "        key = subdir.split('/')[-1]\n",
        "        img_list = []\n",
        "        for file in files:\n",
        "            filepath = os.path.join(subdir, file)\n",
        "            img_color = cv2.imread(filepath)\n",
        "            img_list.append(img_color)\n",
        "            pbar.update(1)  # Atualiza a barra de progresso para cada imagem lida\n",
        "        imgs[key] = img_list\n",
        "\n",
        "primeira_chave, primeira_lista_imagens = list(imgs.items())[0]"
      ]
    },
    {
      "cell_type": "code",
      "execution_count": 48,
      "metadata": {
        "colab": {
          "base_uri": "https://localhost:8080/",
          "height": 129
        },
        "id": "-DmoYSDep1AI",
        "outputId": "abfe5b34-d03d-4fee-fbdf-437003a36e28"
      },
      "outputs": [
        {
          "output_type": "display_data",
          "data": {
            "text/plain": [
              "<PIL.Image.Image image mode=RGB size=112x112 at 0x7F97B18456F0>"
            ],
            "image/png": "[encoded data removed]"
          },
          "metadata": {}
        }
      ],
      "source": [
        "from google.colab.patches import cv2_imshow\n",
        "cv2_imshow(imgs['Roberto_Carlos'][0])\n",
        "cv2.waitKey(0)\n",
        "cv2.destroyAllWindows()\n"
      ]
    },
    {
      "cell_type": "markdown",
      "metadata": {
        "id": "nMu0mSgc6Olh"
      },
      "source": [
        "### Gerando os embeddings"
      ]
    },
    {
      "cell_type": "code",
      "execution_count": null,
      "metadata": {
        "id": "i7LtgXIc1Xm6"
      },
      "outputs": [],
      "source": [
        "emb_dicio = {}\n",
        "\n",
        "for key, value in imgs.items():\n",
        "    value_emb = []\n",
        "    # Generating embeddings for an image\n",
        "    for i in range(len(value)):\n",
        "        img_emb_results = app.get(np.asarray(imgs[key][i]))\n",
        "        if len(img_emb_results) > 0:\n",
        "            value_emb.append(img_emb_results)\n",
        "    emb_dicio.update({key: value_emb})"
      ]
    },
    {
      "cell_type": "markdown",
      "metadata": {
        "id": "kXe9i2OlGdj2"
      },
      "source": [
        "\n",
        "\n"
      ]
    },
    {
      "cell_type": "markdown",
      "metadata": {
        "id": "ObEp1FRbWjAr"
      },
      "source": [
        "#### Train K NearestNeighbours"
      ]
    },
    {
      "cell_type": "code",
      "execution_count": 15,
      "metadata": {
        "id": "qk4wn52E5FiG"
      },
      "outputs": [],
      "source": [
        "## lista de labels e lista de embs\n",
        "labels = []\n",
        "embs_list = []\n",
        "\n",
        "for key, value in emb_dicio.items():\n",
        "    for img in value:\n",
        "        labels.append(key)\n",
        "        embs_list.append(img)"
      ]
    },
    {
      "cell_type": "code",
      "execution_count": 16,
      "metadata": {
        "id": "GEabBtrWGNZw",
        "colab": {
          "base_uri": "https://localhost:8080/"
        },
        "outputId": "8f9c5902-ba59-4246-cd8c-eb515daf3556"
      },
      "outputs": [
        {
          "output_type": "stream",
          "name": "stdout",
          "text": [
            "[ 1.76261216e-01 -5.84186733e-01  4.57843363e-01  1.26891279e+00\n",
            "  1.56993687e+00  5.70504427e-01 -1.33887485e-01 -9.96755064e-01\n",
            "  3.86207730e-01  1.24547768e+00 -6.10154688e-01 -1.99122101e-01\n",
            " -1.87217265e-01 -4.66407001e-01  1.66090596e+00  5.86843729e-01\n",
            " -2.80800104e-01  5.71360588e-01 -9.57495570e-02  5.25888443e-01\n",
            " -1.81083941e+00 -7.13294923e-01 -5.82252860e-01 -3.30967188e+00\n",
            "  1.93812120e+00  6.43064260e-01 -1.18943155e+00 -7.84892142e-01\n",
            " -6.41739368e-01 -8.65936279e-01 -1.00114524e-01  3.18348020e-01\n",
            " -1.33159488e-01  1.30338871e+00 -8.64434898e-01 -7.46768489e-02\n",
            "  4.08238083e-01  6.82308674e-02  1.04348969e+00  1.68602720e-01\n",
            " -1.18206370e+00  4.40559447e-01 -6.12914085e-01 -5.33126771e-01\n",
            "  1.02600664e-01 -1.07278287e+00 -1.35426807e+00  6.68563619e-02\n",
            " -7.58720875e-01 -9.14231539e-01 -1.46731436e+00  5.76435328e-01\n",
            "  6.57072514e-02  1.03534055e+00  1.81226104e-01 -6.26600087e-01\n",
            " -2.13806581e+00 -7.07328022e-01 -8.80100489e-01 -4.96713333e-02\n",
            "  7.10805535e-01 -1.23081356e-01  6.42969370e-01  5.58444023e-01\n",
            "  5.01077294e-01  9.48972821e-01  2.54079312e-01 -8.70494366e-01\n",
            " -5.16772866e-01 -1.65937796e-01  2.86424644e-02 -1.15786338e+00\n",
            "  7.31740773e-01 -1.50059628e+00 -7.31900871e-01  1.73805511e+00\n",
            "  1.01605380e+00 -2.51153976e-01  1.66418386e+00  2.82781541e-01\n",
            " -3.99656057e-01  8.15215707e-01  3.30741286e-01  4.23580289e-01\n",
            " -1.45229721e+00 -7.86002934e-01 -1.79490018e+00  9.72586811e-01\n",
            "  1.31719244e+00  4.79978248e-02 -1.74388731e+00  2.17605281e+00\n",
            "  1.13021421e+00  6.65987492e-01 -1.05750285e-01  7.74302721e-01\n",
            " -1.06977391e+00  7.25485802e-01  7.41160363e-02  5.65001428e-01\n",
            " -1.10105205e+00  2.47798038e+00  4.52835441e-01 -2.76156664e-02\n",
            " -6.96195066e-02  1.35422325e+00  2.26565093e-01 -2.37172380e-01\n",
            "  7.20590532e-01  6.75929189e-01  5.18876016e-01  9.31731403e-01\n",
            "  2.11842442e+00  7.41124898e-03  2.61864990e-01  1.39881682e+00\n",
            " -7.25171745e-01 -1.14424491e+00 -1.12918305e+00  1.90098000e+00\n",
            " -3.94019127e-01  1.28338993e-01 -2.79001260e+00  3.03986907e-01\n",
            "  1.17668128e+00 -2.12102577e-01  5.04288137e-01 -9.62930083e-01\n",
            " -5.48477590e-01  4.80121732e-01  3.12125802e-01 -1.45358935e-01\n",
            "  6.73320055e-01  5.26302755e-01  2.19761896e+00  1.11247635e+00\n",
            "  7.26770520e-01 -2.30095625e-01  4.76113379e-01  4.69131231e-01\n",
            "  5.00571579e-02  6.19600266e-02  1.18376687e-01 -1.00639594e+00\n",
            " -1.62706661e+00  2.50040078e+00  1.22031212e+00  9.58296955e-01\n",
            " -6.16645701e-02  1.54087579e+00 -1.49711800e+00 -1.21849597e-01\n",
            " -2.78439581e-01  1.40930033e+00  1.31881380e+00  2.26988405e-01\n",
            " -1.26944733e+00  3.30465645e-01 -4.02911454e-01 -4.50322032e-03\n",
            " -1.39664423e+00 -7.54633009e-01 -1.84448671e+00 -4.68545973e-01\n",
            "  1.24338830e+00 -3.14546108e-01  9.33680713e-01 -2.29482269e+00\n",
            " -9.89938378e-01  4.41700965e-01 -1.02948391e+00  4.59464639e-01\n",
            " -3.99691641e-01 -1.30860597e-01  5.02906203e-01  1.92208141e-01\n",
            " -7.61416078e-01  8.60402942e-01  1.61317790e+00  7.71031678e-01\n",
            "  6.46719217e-01  1.89613879e+00  1.93424678e+00  1.71347129e+00\n",
            " -1.35345936e-01  9.99676943e-01 -5.35489321e-01  2.19085276e-01\n",
            "  2.41934776e+00 -8.11988711e-02  7.09984064e-01  1.42990708e+00\n",
            "  3.16668361e-01 -8.74284506e-01 -1.71301797e-01 -8.12673569e-01\n",
            " -5.97256303e-01  8.93527865e-02 -2.18002820e+00  7.31144488e-01\n",
            "  1.42413986e+00 -1.07740545e+00  1.03445888e-01 -2.25777245e+00\n",
            " -1.48248360e-01  4.09991920e-01  1.15949833e+00 -1.72903150e-01\n",
            " -1.16461444e+00 -1.02670515e+00  8.17194164e-01  5.98974526e-01\n",
            " -7.14765728e-01  3.18610638e-01 -1.79723120e+00 -4.54658449e-01\n",
            " -6.14230752e-01  5.69038242e-02  3.22560221e-03  3.02277431e-02\n",
            " -3.53043258e-01 -1.83704555e-01  9.49678898e-01  6.38521791e-01\n",
            "  1.38803080e-01 -5.90104342e-01 -7.65228510e-01  1.93227923e+00\n",
            " -1.37835050e+00 -4.99014080e-01 -1.62645370e-01  9.51026380e-01\n",
            "  1.00100374e+00 -1.37395233e-01  1.23634791e+00  1.45791209e+00\n",
            " -7.87889719e-01  6.72210336e-01 -1.80799782e-01  1.36549103e+00\n",
            "  5.94546914e-01  6.14563644e-01  3.78521562e-01  1.00161052e+00\n",
            " -8.42271984e-01 -1.27614349e-01  7.14135468e-01  9.07630801e-01\n",
            " -8.17523718e-01  9.14711475e-01  2.55206251e+00  2.87368476e-01\n",
            " -2.28904557e+00  1.71870530e+00 -1.79531932e-01  1.52912915e+00\n",
            " -6.05172455e-01  1.04666245e+00  6.85725749e-01  8.12437057e-01\n",
            " -3.44878435e-01 -6.29278183e-01 -7.68830359e-01  1.31545365e+00\n",
            " -4.98792768e-01 -3.39108765e-01 -2.86174715e-02  3.03932071e-01\n",
            "  3.53567898e-01 -3.70647937e-01 -1.34587300e+00  2.75462270e-01\n",
            "  1.41592526e+00  4.89853248e-02 -7.01748133e-01 -3.73768985e-01\n",
            " -9.92009401e-01 -5.66147983e-01  1.85501456e-01  4.35419112e-01\n",
            " -7.51903355e-01  6.44396365e-01 -1.18233466e+00 -4.80931401e-02\n",
            "  9.73946333e-01  7.94545591e-01  4.01569217e-01 -5.68704128e-01\n",
            " -4.16029990e-02  1.22504425e+00 -3.79792005e-02  6.64576143e-03\n",
            "  1.74858421e-01 -3.80861342e-01  1.55180001e+00 -1.05752087e+00\n",
            " -1.65480018e+00  1.04064572e+00 -1.25877276e-01  1.01116717e+00\n",
            "  1.22175291e-01  1.91233408e+00  1.33666325e+00  5.79079807e-01\n",
            "  1.63010097e+00  6.51598692e-01 -2.35512161e+00 -1.52898204e+00\n",
            "  1.00407827e+00  3.90804321e-01 -7.36081958e-01  1.02359688e+00\n",
            " -1.70004976e+00 -2.22167239e-01  1.51845670e+00 -8.71826231e-01\n",
            "  6.60437196e-02  5.33028483e-01 -4.07077461e-01 -7.89693475e-01\n",
            "  3.01646471e-01 -6.40622556e-01  1.82765460e+00 -3.61976177e-01\n",
            "  2.11824298e-01  1.48631918e+00 -6.08555257e-01  1.21459055e+00\n",
            " -1.02990246e+00  6.35206580e-01  1.46646202e+00 -5.77840686e-01\n",
            "  1.05409360e+00  2.54561114e+00  1.01535714e+00  4.54592288e-01\n",
            "  2.07281685e+00  1.46376514e+00 -5.08421302e-01  2.88373798e-01\n",
            "  8.49585176e-01  1.03052892e-01 -7.77285814e-01  1.86689764e-01\n",
            " -4.88011688e-01 -6.20298147e-01  4.84015226e-01  5.84769487e-01\n",
            "  2.06804544e-01  1.12519217e+00 -3.64744365e-02 -8.70428324e-01\n",
            " -8.43360007e-01 -1.45063043e+00  2.29309782e-01 -7.95151114e-01\n",
            "  1.79687798e-01  7.29665399e-01 -1.13441193e+00 -5.11480033e-01\n",
            "  6.20599270e-01 -1.85894680e+00  8.90383720e-02 -9.64403570e-01\n",
            " -8.64640921e-02 -2.73878992e-01 -8.29078704e-02 -1.81795013e+00\n",
            " -2.16737413e+00 -1.37899148e+00 -3.22405577e-01 -1.02049232e+00\n",
            "  1.28514135e+00 -5.72303772e-01 -1.32322758e-02 -4.47451621e-01\n",
            " -5.11002317e-02 -3.96052599e-01 -6.29266620e-01 -2.43439031e+00\n",
            " -8.27325165e-01 -5.51173091e-01  2.14493322e+00  1.03679322e-01\n",
            " -1.42861700e+00  9.88513350e-01 -1.10125315e+00  4.17193502e-01\n",
            "  3.54636014e-01 -1.12051105e+00 -4.56441641e-01 -4.04539287e-01\n",
            " -2.43485719e-01 -4.05208051e-01 -4.66567516e-01 -1.14820993e+00\n",
            " -1.00351572e+00 -2.84044981e-01 -9.78284121e-01 -3.13862967e+00\n",
            " -1.20458567e+00 -1.01532745e+00 -8.89162779e-01 -6.58742309e-01\n",
            " -9.18629527e-01  4.62972194e-01 -1.74544156e-01 -2.06125784e+00\n",
            " -6.40746415e-01 -2.47802958e-02 -3.20824385e-01 -1.52967024e+00\n",
            "  7.75112092e-01  8.64892840e-01  1.65056810e-02  1.51080167e+00\n",
            "  1.09462416e+00 -5.71904719e-01 -1.54590964e+00 -8.65816593e-01\n",
            "  1.85442746e+00  5.23810387e-01  1.60180521e+00  8.04190934e-01\n",
            " -1.11605608e+00  3.90057325e-01 -1.04931331e+00  9.68981683e-01\n",
            " -1.08611131e+00  9.19341445e-01 -3.58252794e-01 -8.32817554e-02\n",
            " -7.55776525e-01  1.93525195e-01  9.05231595e-01 -1.86460710e+00\n",
            "  7.17140675e-01  2.25163192e-01  9.67028260e-01 -1.40953019e-01\n",
            " -9.85242426e-01 -1.43499827e+00  1.45867956e+00  2.01586828e-01\n",
            "  1.73823500e+00 -2.48399734e+00  7.15749443e-01 -1.79956824e-01\n",
            "  2.14612341e+00 -9.20458138e-03 -2.16076088e+00  1.78554773e+00\n",
            "  6.07822478e-01  1.07149124e+00  5.99391103e-01  8.18399072e-01\n",
            " -1.91091979e+00  6.91448987e-01 -1.17091298e-01 -1.38931274e+00\n",
            " -3.29353124e-01  1.49907470e-02  1.70583355e+00  1.96865869e+00\n",
            " -6.25460923e-01  1.55896258e+00  4.54961240e-01 -1.41038746e-01\n",
            "  2.51995921e-01 -1.19141579e+00 -1.24124551e+00  3.38435173e-01\n",
            " -5.27639389e-01  1.08249855e+00 -1.12341392e+00 -1.05203116e+00\n",
            "  7.96104312e-01 -5.95172703e-01 -4.68728960e-01  1.54142833e+00\n",
            " -1.05012977e+00 -4.35821623e-01  3.20717394e-02 -2.24441856e-01\n",
            "  9.34327245e-01 -3.23539406e-01 -1.87889564e+00  8.18587244e-01\n",
            "  1.14388406e+00 -1.89061940e+00  2.03656271e-01 -8.53976369e-01\n",
            "  6.30833268e-01  3.79353613e-01 -3.28258812e-01 -1.41568077e+00\n",
            " -1.96773338e+00 -8.21618080e-01 -1.76751828e+00  2.76577733e-02\n",
            " -1.60987604e+00  2.14592844e-01 -4.04177487e-01 -1.06548056e-01\n",
            "  1.76247132e+00 -3.10120702e-01  3.10168028e+00  6.74347281e-01\n",
            "  1.70474482e+00 -1.07121909e+00 -4.23857778e-01 -8.32458019e-01]\n"
          ]
        }
      ],
      "source": [
        "# print(len(labels))\n",
        "# print(len(embs_list))\n",
        "print((embs_list[0][0].embedding))"
      ]
    },
    {
      "cell_type": "code",
      "execution_count": 17,
      "metadata": {
        "id": "06fjeY36HmL-"
      },
      "outputs": [],
      "source": [
        "real_embs_list = []\n",
        "for element in embs_list:\n",
        "    real_embs_list.append(element[0].embedding)"
      ]
    },
    {
      "cell_type": "code",
      "execution_count": 18,
      "metadata": {
        "id": "AI75-VLpGiff",
        "colab": {
          "base_uri": "https://localhost:8080/",
          "height": 74
        },
        "outputId": "7df98801-b555-4f1c-b7c7-d2a1ac20acb0"
      },
      "outputs": [
        {
          "output_type": "execute_result",
          "data": {
            "text/plain": [
              "NearestNeighbors(metric='cosine', n_neighbors=3)"
            ],
            "text/html": [
              "<style>#sk-container-id-1 {color: black;background-color: white;}#sk-container-id-1 pre{padding: 0;}#sk-container-id-1 div.sk-toggleable {background-color: white;}#sk-container-id-1 label.sk-toggleable__label {cursor: pointer;display: block;width: 100%;margin-bottom: 0;padding: 0.3em;box-sizing: border-box;text-align: center;}#sk-container-id-1 label.sk-toggleable__label-arrow:before {content: \"▸\";float: left;margin-right: 0.25em;color: #696969;}#sk-container-id-1 label.sk-toggleable__label-arrow:hover:before {color: black;}#sk-container-id-1 div.sk-estimator:hover label.sk-toggleable__label-arrow:before {color: black;}#sk-container-id-1 div.sk-toggleable__content {max-height: 0;max-width: 0;overflow: hidden;text-align: left;background-color: #f0f8ff;}#sk-container-id-1 div.sk-toggleable__content pre {margin: 0.2em;color: black;border-radius: 0.25em;background-color: #f0f8ff;}#sk-container-id-1 input.sk-toggleable__control:checked~div.sk-toggleable__content {max-height: 200px;max-width: 100%;overflow: auto;}#sk-container-id-1 input.sk-toggleable__control:checked~label.sk-toggleable__label-arrow:before {content: \"▾\";}#sk-container-id-1 div.sk-estimator input.sk-toggleable__control:checked~label.sk-toggleable__label {background-color: #d4ebff;}#sk-container-id-1 div.sk-label input.sk-toggleable__control:checked~label.sk-toggleable__label {background-color: #d4ebff;}#sk-container-id-1 input.sk-hidden--visually {border: 0;clip: rect(1px 1px 1px 1px);clip: rect(1px, 1px, 1px, 1px);height: 1px;margin: -1px;overflow: hidden;padding: 0;position: absolute;width: 1px;}#sk-container-id-1 div.sk-estimator {font-family: monospace;background-color: #f0f8ff;border: 1px dotted black;border-radius: 0.25em;box-sizing: border-box;margin-bottom: 0.5em;}#sk-container-id-1 div.sk-estimator:hover {background-color: #d4ebff;}#sk-container-id-1 div.sk-parallel-item::after {content: \"\";width: 100%;border-bottom: 1px solid gray;flex-grow: 1;}#sk-container-id-1 div.sk-label:hover label.sk-toggleable__label {background-color: #d4ebff;}#sk-container-id-1 div.sk-serial::before {content: \"\";position: absolute;border-left: 1px solid gray;box-sizing: border-box;top: 0;bottom: 0;left: 50%;z-index: 0;}#sk-container-id-1 div.sk-serial {display: flex;flex-direction: column;align-items: center;background-color: white;padding-right: 0.2em;padding-left: 0.2em;position: relative;}#sk-container-id-1 div.sk-item {position: relative;z-index: 1;}#sk-container-id-1 div.sk-parallel {display: flex;align-items: stretch;justify-content: center;background-color: white;position: relative;}#sk-container-id-1 div.sk-item::before, #sk-container-id-1 div.sk-parallel-item::before {content: \"\";position: absolute;border-left: 1px solid gray;box-sizing: border-box;top: 0;bottom: 0;left: 50%;z-index: -1;}#sk-container-id-1 div.sk-parallel-item {display: flex;flex-direction: column;z-index: 1;position: relative;background-color: white;}#sk-container-id-1 div.sk-parallel-item:first-child::after {align-self: flex-end;width: 50%;}#sk-container-id-1 div.sk-parallel-item:last-child::after {align-self: flex-start;width: 50%;}#sk-container-id-1 div.sk-parallel-item:only-child::after {width: 0;}#sk-container-id-1 div.sk-dashed-wrapped {border: 1px dashed gray;margin: 0 0.4em 0.5em 0.4em;box-sizing: border-box;padding-bottom: 0.4em;background-color: white;}#sk-container-id-1 div.sk-label label {font-family: monospace;font-weight: bold;display: inline-block;line-height: 1.2em;}#sk-container-id-1 div.sk-label-container {text-align: center;}#sk-container-id-1 div.sk-container {/* jupyter's `normalize.less` sets `[hidden] { display: none; }` but bootstrap.min.css set `[hidden] { display: none !important; }` so we also need the `!important` here to be able to override the default hidden behavior on the sphinx rendered scikit-learn.org. See: https://github.com/scikit-learn/scikit-learn/issues/21755 */display: inline-block !important;position: relative;}#sk-container-id-1 div.sk-text-repr-fallback {display: none;}</style><div id=\"sk-container-id-1\" class=\"sk-top-container\"><div class=\"sk-text-repr-fallback\"><pre>NearestNeighbors(metric=&#x27;cosine&#x27;, n_neighbors=3)</pre><b>In a Jupyter environment, please rerun this cell to show the HTML representation or trust the notebook. <br />On GitHub, the HTML representation is unable to render, please try loading this page with nbviewer.org.</b></div><div class=\"sk-container\" hidden><div class=\"sk-item\"><div class=\"sk-estimator sk-toggleable\"><input class=\"sk-toggleable__control sk-hidden--visually\" id=\"sk-estimator-id-1\" type=\"checkbox\" checked><label for=\"sk-estimator-id-1\" class=\"sk-toggleable__label sk-toggleable__label-arrow\">NearestNeighbors</label><div class=\"sk-toggleable__content\"><pre>NearestNeighbors(metric=&#x27;cosine&#x27;, n_neighbors=3)</pre></div></div></div></div></div>"
            ]
          },
          "metadata": {},
          "execution_count": 18
        }
      ],
      "source": [
        "# treinando o classificador KNN\n",
        "nn = NearestNeighbors(n_neighbors=3, metric=\"cosine\")\n",
        "nn.fit(X=real_embs_list)"
      ]
    },
    {
      "cell_type": "code",
      "execution_count": 19,
      "metadata": {
        "id": "sBh0q3YOWm4t"
      },
      "outputs": [],
      "source": [
        "# salvando o modelo no drive\n",
        "filename = '/content/drive/MyDrive/data/faceID_model.pkl'\n",
        "with open(filename, 'wb') as file:\n",
        "    pickle.dump(nn, file)"
      ]
    },
    {
      "cell_type": "code",
      "execution_count": 49,
      "metadata": {
        "id": "-RYht7s397od",
        "colab": {
          "base_uri": "https://localhost:8080/",
          "height": 164
        },
        "outputId": "ab2214c1-8c24-417f-afb2-027984bf8b01"
      },
      "outputs": [
        {
          "output_type": "stream",
          "name": "stdout",
          "text": [
            "(1190, 1079, 3)\n",
            "(820, 1079, 3)\n"
          ]
        },
        {
          "output_type": "display_data",
          "data": {
            "text/plain": [
              "<PIL.Image.Image image mode=RGB size=112x112 at 0x7F97B1845A20>"
            ],
            "image/png": "[encoded data removed]"
          },
          "metadata": {}
        }
      ],
      "source": [
        "new_person = cv2.imread(\"/content/drive/MyDrive/data/Taylor_Swift/taylor_swift.jpg\")\n",
        "print(new_person.shape)\n",
        "crop_img = new_person[180:1000, :]\n",
        "print(crop_img.shape)\n",
        "new_resized = cv2.resize(crop_img, (112, 112))\n",
        "\n",
        "from google.colab.patches import cv2_imshow\n",
        "cv2_imshow(new_resized)\n",
        "cv2.waitKey(0)\n",
        "cv2.destroyAllWindows()"
      ]
    },
    {
      "cell_type": "code",
      "execution_count": 25,
      "metadata": {
        "id": "J4K4jevzTF8T"
      },
      "outputs": [],
      "source": [
        "imgs.update({'Taylor Swift': [new_resized]})"
      ]
    },
    {
      "cell_type": "code",
      "execution_count": 28,
      "metadata": {
        "id": "9enuvHgJEfEL",
        "colab": {
          "base_uri": "https://localhost:8080/"
        },
        "outputId": "d2471e27-b8bc-492a-9b14-18ec901d1729"
      },
      "outputs": [
        {
          "output_type": "stream",
          "name": "stdout",
          "text": [
            "[ 4.81962085e-01 -3.35992873e-03  6.21559262e-01  8.29876214e-02\n",
            " -6.37163281e-01  1.49362195e+00 -5.88430166e-01  3.93353283e-01\n",
            " -7.88802981e-01 -1.35541940e+00  6.73665702e-01 -1.01872340e-01\n",
            " -1.54370165e+00  1.54120505e+00  1.07481050e+00 -1.00615370e+00\n",
            "  2.95415491e-01  1.46742415e+00 -4.00748789e-01 -2.32197285e-01\n",
            "  2.79683709e-01  4.74213243e-01  5.34631789e-01  1.00221431e+00\n",
            "  5.93938470e-01  1.71364881e-02  3.05290192e-01  5.75920522e-01\n",
            "  3.24069932e-02  1.42942286e+00 -3.54371697e-01 -4.00615245e-01\n",
            " -7.11757958e-01  1.00636351e+00  3.46525341e-01 -1.82182443e+00\n",
            "  1.13544202e+00  5.09041369e-01 -2.16947556e-01  2.19433323e-01\n",
            "  9.67733860e-02  7.89342523e-01  9.56604779e-01 -1.59360123e+00\n",
            "  1.28323472e+00 -8.86041820e-02  8.72712553e-01 -6.00187033e-02\n",
            " -3.50059658e-01  7.55651176e-01  1.43664896e-01 -4.41209644e-01\n",
            "  5.00885785e-01  7.04530001e-01  6.50740147e-01 -6.81218505e-01\n",
            " -7.13088736e-02  1.99763417e-01  2.96653628e-01  1.74209118e-01\n",
            "  7.84566522e-01 -5.66512346e-04 -2.30525160e+00  1.72175694e+00\n",
            "  7.09396482e-01  2.77809352e-01 -1.31162316e-01 -4.83377814e-01\n",
            "  9.40742970e-01  1.15103126e+00  1.37819040e+00 -3.74872863e-01\n",
            " -2.60080671e+00  8.21563303e-02  8.45436394e-01 -7.09731132e-02\n",
            "  1.16810429e+00 -2.21135557e-01 -7.07969725e-01  1.78995326e-01\n",
            " -1.52371339e-02  3.83011818e-01 -8.69804323e-01 -7.96602726e-01\n",
            " -8.22712064e-01 -8.47159326e-02 -6.11133695e-01 -1.07210502e-01\n",
            " -6.23717368e-01 -4.45940584e-01 -1.65286279e+00 -1.17099248e-01\n",
            "  5.94599724e-01 -1.31913781e+00  1.02922976e+00  6.19608760e-01\n",
            " -4.79654878e-01 -3.96499395e-01  3.46737027e-01  1.90449452e+00\n",
            "  4.83726226e-02 -1.35663256e-01  4.16009650e-02  3.64309549e-01\n",
            "  7.10312724e-01  4.04859990e-01 -9.58600879e-01  4.58977163e-01\n",
            " -2.04321936e-01 -1.10259295e+00  1.88566673e+00  5.21128416e-01\n",
            " -3.87066007e-02  9.27249670e-01 -1.63427949e-01  1.00362337e+00\n",
            "  7.01970220e-01  1.84258848e-01 -3.48985195e-02  8.46437812e-02\n",
            " -1.34813833e+00  3.19348186e-01  3.70269299e-01  3.28698516e-01\n",
            "  7.08477855e-01  1.05426800e+00  3.62945467e-01 -1.37634128e-01\n",
            " -1.06012034e+00  4.64708477e-01  1.80787396e+00  1.02777672e+00\n",
            "  1.11993182e+00 -1.38945925e+00  3.73435289e-01 -1.14977694e+00\n",
            " -1.35168505e+00  4.21743542e-01  3.16497564e-01  1.88344681e+00\n",
            "  9.94642377e-01 -5.37538648e-01  7.03747422e-02  1.20271683e+00\n",
            " -6.19483650e-01 -2.65110314e-01 -1.78311169e+00 -4.13930178e-01\n",
            " -8.58513415e-01  1.29502535e+00 -2.41462350e-01 -2.48953804e-01\n",
            "  1.35126710e-01 -8.30168575e-02 -5.70766270e-01  1.47098958e+00\n",
            "  6.41127825e-01  1.94177121e-01 -1.95869729e-02 -3.95522416e-01\n",
            " -8.33474517e-01  6.50613666e-01 -2.68230152e+00 -6.57973468e-01\n",
            " -5.12743950e-01  1.21080077e+00 -7.91900396e-01 -8.46736580e-02\n",
            "  1.42818615e-01 -6.93570375e-01  9.99067128e-01  1.89297676e-01\n",
            " -3.90369356e-01 -1.54392731e+00 -1.01093554e+00  7.55664587e-01\n",
            " -5.41336954e-01  8.66987228e-01 -1.28118014e+00  1.62118697e+00\n",
            " -5.29601634e-01  4.90806133e-01  1.42645848e+00  5.19900620e-01\n",
            "  2.76481152e-01 -6.82778895e-01  9.23514813e-02  1.73159754e+00\n",
            "  1.26906908e+00  2.41264030e-01  1.71155000e+00 -7.49087512e-01\n",
            "  2.97713697e-01 -1.75895476e+00 -8.02120447e-01  1.69679058e+00\n",
            " -3.36834699e-01  4.57072824e-01  1.55341312e-01  7.47365594e-01\n",
            " -5.68933189e-02 -3.03892136e-01 -3.43146324e-02  2.24881506e+00\n",
            "  9.99736309e-01  1.32562518e+00  9.10095036e-01  5.26317358e-01\n",
            " -2.19477668e-01 -2.79390246e-01 -1.44440934e-01 -3.39744449e-01\n",
            " -8.68936658e-01  5.25081515e-01 -3.06072712e-01  6.15984976e-01\n",
            "  8.59129280e-02  2.62229145e-02  8.05351913e-01 -1.15178323e+00\n",
            " -5.99036396e-01  3.62254053e-01  6.75829172e-01 -6.99662715e-02\n",
            " -7.24276662e-01  4.21729058e-01 -5.69538653e-01 -1.94571662e+00\n",
            "  9.61944103e-01  1.08181030e-01  6.79551721e-01 -1.08720553e+00\n",
            " -1.22163534e+00  1.03864276e+00 -1.66240418e+00 -1.58891928e+00\n",
            "  2.40249828e-01  2.21457094e-01  1.67227519e+00  6.02850020e-01\n",
            "  2.09884548e+00  4.16567445e-01 -1.64680481e-01  1.07258928e+00\n",
            "  1.02284598e+00  3.02286953e-01  3.20777819e-02  8.18482518e-01\n",
            "  8.41230899e-03  7.16293335e-01 -8.45390439e-01  4.60877895e-01\n",
            "  9.14584756e-01 -1.47313321e+00 -4.86966878e-01  5.97479820e-01\n",
            " -2.29834270e+00 -1.88840771e+00  6.92781985e-01 -6.87238872e-01\n",
            " -9.32247192e-02  1.33897275e-01 -5.00316441e-01 -8.95499766e-01\n",
            "  2.96649367e-01 -1.60739195e+00 -8.06561291e-01  1.25015691e-01\n",
            " -5.40355682e-01 -1.60101521e+00  1.31806061e-01 -1.41589507e-01\n",
            " -9.19861197e-01 -1.56989348e+00 -4.59906787e-01 -1.18793440e+00\n",
            " -1.42348230e-01  5.12334347e-01 -2.36183032e-01  1.30967963e-02\n",
            "  5.29138625e-01  4.85369079e-02  1.47258997e+00  1.08665586e+00\n",
            " -3.21349502e-01 -1.65057945e+00  6.93824649e-01 -1.84339726e+00\n",
            " -1.34302258e-01  8.40316564e-02 -1.04351151e+00  1.60306489e+00\n",
            "  7.02366352e-01  9.37957346e-01  6.62465513e-01  4.02333617e-01\n",
            "  9.61698651e-01 -1.59913039e+00  6.15082741e-01 -4.00092751e-01\n",
            " -9.55297112e-01 -3.45707238e-01  1.75912154e+00  8.14317167e-01\n",
            " -1.34891734e-01 -1.89070535e+00  1.36441875e+00  2.46552154e-01\n",
            " -6.46148860e-01  4.16541338e-01 -2.85942197e-01  1.09387004e+00\n",
            "  4.47331518e-01 -6.01217449e-01 -1.10383177e+00 -2.30847538e-01\n",
            "  2.66523051e+00  2.32644796e+00 -1.10420716e+00 -7.81034887e-01\n",
            "  1.23601103e+00 -5.54784894e-01 -2.26868138e-01 -5.35196424e-01\n",
            "  2.22941816e-01  1.17283039e-01  1.56246471e+00 -3.29185188e-01\n",
            " -1.87309176e-01  1.89396411e-01  3.83029282e-02  1.81610310e+00\n",
            "  3.49171698e-01 -5.59976697e-01  2.46707201e-01  4.30537403e-01\n",
            "  6.23396993e-01 -1.45439970e+00  2.14601070e-01  2.40967011e+00\n",
            "  5.11948705e-01 -1.19697666e+00 -1.14559841e+00  7.63038337e-01\n",
            " -3.65952730e-01  1.42192505e-02 -1.19068682e+00 -4.81153905e-01\n",
            " -6.17660046e-01  3.13944221e-01  1.24570787e-01  2.16794237e-01\n",
            " -6.55023813e-01  3.93182814e-01  9.01782453e-01 -2.69381255e-02\n",
            "  6.07797801e-01  3.02849722e+00 -1.07444382e+00  4.23516333e-01\n",
            "  4.72855806e-01  1.75723284e-01 -4.82408494e-01 -1.61144233e+00\n",
            "  1.48413265e+00  3.65828156e-01 -1.06618381e+00 -8.86824846e-01\n",
            " -1.26067126e+00 -7.03609705e-01 -9.78574157e-01  4.05300319e-01\n",
            " -3.51995647e-01  1.56848669e-01 -2.26310253e-01 -1.10826004e+00\n",
            " -1.39667368e+00  2.81763017e-01  3.08405548e-01 -1.30685747e+00\n",
            " -1.33068657e+00  5.40077925e-01  4.38920230e-01  4.67003211e-02\n",
            "  2.13860512e+00  8.85803282e-01  6.82596326e-01  9.63669419e-01\n",
            " -1.34964728e+00  4.95695591e-01  8.36486816e-01 -1.02383280e+00\n",
            " -2.16350770e+00  3.67471367e-01  8.89595628e-01  1.06386888e+00\n",
            " -8.48803639e-01 -1.30262601e+00 -1.15017915e+00 -1.77150822e+00\n",
            " -6.49447680e-01 -9.44977283e-01 -1.14761686e+00  1.53080308e+00\n",
            "  6.25090837e-01 -1.02534688e+00 -3.75538707e-01 -6.03750944e-01\n",
            "  2.46338940e+00 -1.25698555e+00 -6.37630820e-01  6.83039427e-04\n",
            " -6.83984518e-01 -2.14784932e+00  4.05954778e-01  5.45561835e-02\n",
            " -2.15303257e-01  1.06253076e+00 -9.82747316e-01  1.40737224e+00\n",
            "  3.10537666e-01 -1.15516782e+00 -2.51234233e-01 -8.26768875e-02\n",
            " -2.24093661e-01 -2.94823229e-01  3.56878489e-01 -4.36846167e-04\n",
            "  8.56835246e-01  6.05346560e-01  8.26849401e-01 -1.29499376e+00\n",
            "  1.20126748e+00  3.72683138e-01 -6.60965502e-01 -9.32667911e-01\n",
            " -6.28329158e-01 -6.90776527e-01  1.54195273e+00 -2.91476697e-01\n",
            " -5.31527773e-02  3.76052737e-01 -1.36274487e-01  1.60655642e+00\n",
            "  7.97845662e-01  1.48885870e+00 -5.59687138e-01 -8.72422755e-03\n",
            " -1.07776558e+00  1.02734566e+00 -6.68774605e-01  6.49178147e-01\n",
            " -6.42324746e-01 -2.31010601e-01 -3.10113072e-01 -7.45069265e-01\n",
            " -1.36899889e+00  1.15178847e+00  1.42264545e+00  1.13691974e+00\n",
            " -8.98863912e-01 -1.11245960e-01 -2.47659993e+00 -2.22876132e-01\n",
            "  3.22174072e-01  5.93458176e-01 -2.21108627e+00  9.51019585e-01\n",
            "  1.11504517e-01 -1.10097456e+00 -9.46073890e-01  7.82514989e-01\n",
            "  2.43821883e+00  5.20886779e-01  1.29347134e+00 -1.22320592e+00\n",
            "  1.49873555e-01  1.19209027e+00 -8.22942793e-01  1.96229100e+00\n",
            "  1.23896277e+00  5.20543098e-01  1.34142828e+00  1.76259065e+00\n",
            " -5.23085117e-01 -1.07054800e-01 -9.49738249e-02 -5.88895082e-01\n",
            " -4.71780270e-01 -1.21045852e+00 -2.04870582e-01  8.46002221e-01\n",
            " -1.31962252e+00 -2.50231802e-01 -1.20483863e+00 -1.05899715e+00\n",
            " -1.01939547e+00  7.86068201e-01  1.02728426e-01 -9.57143903e-01\n",
            "  1.57255113e+00 -1.33375251e+00 -1.20516193e+00 -1.95594922e-01\n",
            "  1.49100208e+00  6.42591596e-01 -9.54106629e-01  8.25486779e-01\n",
            "  3.74315292e-01 -1.77780509e+00  2.20942020e-01 -1.29409158e+00]\n"
          ]
        }
      ],
      "source": [
        "## extraindo o embedding apenas dessa foto\n",
        "emb_taylor = app.get(new_resized)[0].embedding\n",
        "print(emb_taylor)"
      ]
    },
    {
      "cell_type": "code",
      "execution_count": 29,
      "metadata": {
        "id": "mdvexOpBNCUM"
      },
      "outputs": [],
      "source": [
        "## adicionando Taylor às labels\n",
        "labels.append('Taylor Swift')\n",
        "## adicionando o embedding da foto a real_embs_list\n",
        "real_embs_list.append(emb_taylor)"
      ]
    },
    {
      "cell_type": "markdown",
      "metadata": {
        "id": "Ret5OP_-95M0"
      },
      "source": []
    },
    {
      "cell_type": "markdown",
      "metadata": {
        "id": "CXSadBE2W2If"
      },
      "source": [
        "### Inferência"
      ]
    },
    {
      "cell_type": "code",
      "execution_count": 30,
      "metadata": {
        "id": "mt0suSIfW1fQ",
        "colab": {
          "base_uri": "https://localhost:8080/",
          "height": 74
        },
        "outputId": "325b4805-08cd-42d8-d520-1937a85c226a"
      },
      "outputs": [
        {
          "output_type": "execute_result",
          "data": {
            "text/plain": [
              "NearestNeighbors(metric='cosine', n_neighbors=3)"
            ],
            "text/html": [
              "<style>#sk-container-id-2 {color: black;background-color: white;}#sk-container-id-2 pre{padding: 0;}#sk-container-id-2 div.sk-toggleable {background-color: white;}#sk-container-id-2 label.sk-toggleable__label {cursor: pointer;display: block;width: 100%;margin-bottom: 0;padding: 0.3em;box-sizing: border-box;text-align: center;}#sk-container-id-2 label.sk-toggleable__label-arrow:before {content: \"▸\";float: left;margin-right: 0.25em;color: #696969;}#sk-container-id-2 label.sk-toggleable__label-arrow:hover:before {color: black;}#sk-container-id-2 div.sk-estimator:hover label.sk-toggleable__label-arrow:before {color: black;}#sk-container-id-2 div.sk-toggleable__content {max-height: 0;max-width: 0;overflow: hidden;text-align: left;background-color: #f0f8ff;}#sk-container-id-2 div.sk-toggleable__content pre {margin: 0.2em;color: black;border-radius: 0.25em;background-color: #f0f8ff;}#sk-container-id-2 input.sk-toggleable__control:checked~div.sk-toggleable__content {max-height: 200px;max-width: 100%;overflow: auto;}#sk-container-id-2 input.sk-toggleable__control:checked~label.sk-toggleable__label-arrow:before {content: \"▾\";}#sk-container-id-2 div.sk-estimator input.sk-toggleable__control:checked~label.sk-toggleable__label {background-color: #d4ebff;}#sk-container-id-2 div.sk-label input.sk-toggleable__control:checked~label.sk-toggleable__label {background-color: #d4ebff;}#sk-container-id-2 input.sk-hidden--visually {border: 0;clip: rect(1px 1px 1px 1px);clip: rect(1px, 1px, 1px, 1px);height: 1px;margin: -1px;overflow: hidden;padding: 0;position: absolute;width: 1px;}#sk-container-id-2 div.sk-estimator {font-family: monospace;background-color: #f0f8ff;border: 1px dotted black;border-radius: 0.25em;box-sizing: border-box;margin-bottom: 0.5em;}#sk-container-id-2 div.sk-estimator:hover {background-color: #d4ebff;}#sk-container-id-2 div.sk-parallel-item::after {content: \"\";width: 100%;border-bottom: 1px solid gray;flex-grow: 1;}#sk-container-id-2 div.sk-label:hover label.sk-toggleable__label {background-color: #d4ebff;}#sk-container-id-2 div.sk-serial::before {content: \"\";position: absolute;border-left: 1px solid gray;box-sizing: border-box;top: 0;bottom: 0;left: 50%;z-index: 0;}#sk-container-id-2 div.sk-serial {display: flex;flex-direction: column;align-items: center;background-color: white;padding-right: 0.2em;padding-left: 0.2em;position: relative;}#sk-container-id-2 div.sk-item {position: relative;z-index: 1;}#sk-container-id-2 div.sk-parallel {display: flex;align-items: stretch;justify-content: center;background-color: white;position: relative;}#sk-container-id-2 div.sk-item::before, #sk-container-id-2 div.sk-parallel-item::before {content: \"\";position: absolute;border-left: 1px solid gray;box-sizing: border-box;top: 0;bottom: 0;left: 50%;z-index: -1;}#sk-container-id-2 div.sk-parallel-item {display: flex;flex-direction: column;z-index: 1;position: relative;background-color: white;}#sk-container-id-2 div.sk-parallel-item:first-child::after {align-self: flex-end;width: 50%;}#sk-container-id-2 div.sk-parallel-item:last-child::after {align-self: flex-start;width: 50%;}#sk-container-id-2 div.sk-parallel-item:only-child::after {width: 0;}#sk-container-id-2 div.sk-dashed-wrapped {border: 1px dashed gray;margin: 0 0.4em 0.5em 0.4em;box-sizing: border-box;padding-bottom: 0.4em;background-color: white;}#sk-container-id-2 div.sk-label label {font-family: monospace;font-weight: bold;display: inline-block;line-height: 1.2em;}#sk-container-id-2 div.sk-label-container {text-align: center;}#sk-container-id-2 div.sk-container {/* jupyter's `normalize.less` sets `[hidden] { display: none; }` but bootstrap.min.css set `[hidden] { display: none !important; }` so we also need the `!important` here to be able to override the default hidden behavior on the sphinx rendered scikit-learn.org. See: https://github.com/scikit-learn/scikit-learn/issues/21755 */display: inline-block !important;position: relative;}#sk-container-id-2 div.sk-text-repr-fallback {display: none;}</style><div id=\"sk-container-id-2\" class=\"sk-top-container\"><div class=\"sk-text-repr-fallback\"><pre>NearestNeighbors(metric=&#x27;cosine&#x27;, n_neighbors=3)</pre><b>In a Jupyter environment, please rerun this cell to show the HTML representation or trust the notebook. <br />On GitHub, the HTML representation is unable to render, please try loading this page with nbviewer.org.</b></div><div class=\"sk-container\" hidden><div class=\"sk-item\"><div class=\"sk-estimator sk-toggleable\"><input class=\"sk-toggleable__control sk-hidden--visually\" id=\"sk-estimator-id-2\" type=\"checkbox\" checked><label for=\"sk-estimator-id-2\" class=\"sk-toggleable__label sk-toggleable__label-arrow\">NearestNeighbors</label><div class=\"sk-toggleable__content\"><pre>NearestNeighbors(metric=&#x27;cosine&#x27;, n_neighbors=3)</pre></div></div></div></div></div>"
            ]
          },
          "metadata": {},
          "execution_count": 30
        }
      ],
      "source": [
        "# Treinando o classificador KNN \n",
        "nn = NearestNeighbors(n_neighbors=3, metric=\"cosine\")\n",
        "nn.fit(X=real_embs_list)"
      ]
    },
    {
      "cell_type": "code",
      "execution_count": 54,
      "metadata": {
        "id": "4mdxD7S3N3P7",
        "colab": {
          "base_uri": "https://localhost:8080/",
          "height": 164
        },
        "outputId": "3176dbc6-7710-4c7d-b3fe-76052473dd97"
      },
      "outputs": [
        {
          "output_type": "stream",
          "name": "stdout",
          "text": [
            "(1000, 737, 3)\n",
            "(820, 737, 3)\n"
          ]
        },
        {
          "output_type": "display_data",
          "data": {
            "text/plain": [
              "<PIL.Image.Image image mode=RGB size=112x112 at 0x7F97B9D92E60>"
            ],
            "image/png": "[encoded data removed]"
          },
          "metadata": {}
        }
      ],
      "source": [
        "inf_taylor = cv2.imread(\"/content/drive/MyDrive/data/Taylor_Swift/taylor_inferencia.jpg\")\n",
        "print(inf_taylor.shape)\n",
        "crop_img = inf_taylor[180:1000, :]\n",
        "print(crop_img.shape)\n",
        "crop_img_inf = cv2.resize(crop_img, (112, 112))\n",
        "\n",
        "from google.colab.patches import cv2_imshow\n",
        "cv2_imshow(crop_img_inf)\n",
        "cv2.waitKey(0)\n",
        "cv2.destroyAllWindows()"
      ]
    },
    {
      "cell_type": "code",
      "execution_count": 55,
      "metadata": {
        "id": "6FrLB5PiNrGz",
        "colab": {
          "base_uri": "https://localhost:8080/"
        },
        "outputId": "b21269db-9a45-4027-ee9e-4bf246b69760"
      },
      "outputs": [
        {
          "output_type": "stream",
          "name": "stdout",
          "text": [
            "[-1.64672628e-01 -5.48797846e-01  6.64630294e-01  3.72855723e-01\n",
            "  1.27999112e-01  1.30883157e-01  7.80436099e-01  3.60134661e-01\n",
            " -5.69030344e-01 -5.81348777e-01 -6.88610598e-03 -1.34985685e-01\n",
            " -3.56207788e-01  1.68509930e-01 -5.34272790e-01  6.09119534e-02\n",
            " -8.95733356e-01  2.26707846e-01 -4.99853939e-01  7.03891754e-01\n",
            "  2.24167109e-03  5.08288503e-01 -3.69506299e-01  4.02548730e-01\n",
            "  7.08589256e-02  1.29316458e-02 -3.27469051e-01  8.08504045e-01\n",
            " -8.96220356e-02  1.66297483e+00  1.14192352e-01 -1.80292070e-01\n",
            " -3.26146275e-01 -4.24208827e-02  4.13110763e-01 -4.64841612e-02\n",
            "  6.22782588e-01  9.23725426e-01 -7.56435812e-01  4.17303979e-01\n",
            " -1.20841384e+00  1.76337376e-01 -1.08015984e-02 -1.02092505e+00\n",
            "  7.85963416e-01 -3.61926407e-01 -2.98280567e-01  5.23904525e-03\n",
            " -7.77625680e-01 -8.51906300e-01  1.27425089e-01 -3.18521410e-01\n",
            " -4.89361584e-04  3.87946784e-01  6.37987733e-01 -4.16638553e-01\n",
            "  2.59835750e-01 -2.30265796e-01  8.57897222e-01  4.71288204e-01\n",
            " -4.44346160e-01  1.64693445e-01 -1.71273899e+00 -8.67000699e-01\n",
            " -4.03886735e-01  3.95101197e-02  2.51404226e-01 -1.34494472e+00\n",
            " -2.14679122e-01  5.05162001e-01 -1.65163964e-01 -9.82853055e-01\n",
            " -7.79758394e-01  4.06113863e-01  6.72994018e-01  3.35353196e-01\n",
            "  3.47167552e-01 -2.91698396e-01 -2.06214577e-01  6.97131753e-01\n",
            "  1.31222701e+00 -6.22932494e-01  2.81760752e-01 -1.32518634e-01\n",
            " -3.36538941e-01 -1.62672415e-01  1.09900427e+00  4.86175776e-01\n",
            " -1.28732637e-01  2.81540036e-01 -7.74111032e-01  2.59772569e-01\n",
            "  3.29713225e-01 -6.29496574e-02 -5.33587456e-01  5.96641719e-01\n",
            "  7.78983951e-01 -2.00513199e-01  7.85761595e-01  3.90074730e-01\n",
            " -6.31454527e-01 -6.60735667e-01  2.12097093e-01 -3.85095179e-01\n",
            " -7.61355519e-01  5.28354347e-01 -1.21496744e-01 -1.59755588e-01\n",
            "  3.52697790e-01  3.89489442e-01 -9.57423806e-01 -2.66620725e-01\n",
            " -1.51623636e-01  3.41194391e-01 -1.18517868e-01  1.45642793e+00\n",
            " -2.42196679e-01 -1.19821399e-01  6.78614974e-01 -4.43032533e-02\n",
            " -4.15132135e-01 -6.23274326e-01 -7.68227518e-01  4.31180000e-03\n",
            " -4.01525423e-02 -1.69060573e-01  3.59696299e-01 -3.86284590e-01\n",
            "  1.94910049e-01 -3.37385952e-01 -4.26270664e-01 -1.27934217e+00\n",
            " -1.23674646e-02  3.70244622e-01 -3.43811572e-01  4.18831527e-01\n",
            " -8.99225295e-01 -5.31919412e-02 -3.19530219e-02  6.81104600e-01\n",
            "  8.88960481e-01  1.22853971e+00  8.72860700e-02  1.70442224e+00\n",
            "  2.95783699e-01  1.07355487e+00 -6.27372503e-01  1.20692647e+00\n",
            "  1.25854537e-01  5.33292770e-01  1.05881937e-01 -1.26214147e-01\n",
            "  7.73208559e-01  2.31854513e-01  7.11313546e-01  5.63836932e-01\n",
            "  1.63855493e-01  1.16015926e-01 -6.49659157e-01 -4.99960870e-01\n",
            "  6.02028549e-01  5.88285744e-01 -5.52432895e-01  4.08269584e-01\n",
            "  3.29430044e-01 -2.76026428e-01 -4.59339350e-01 -4.16443229e-01\n",
            " -2.60744512e-01  4.85830382e-02  7.42391348e-01 -1.24215856e-01\n",
            " -1.11543283e-01  3.10814440e-01 -2.25133896e-01  3.98352802e-01\n",
            " -8.36571828e-02  3.89279634e-01  2.85019815e-01  6.22088492e-01\n",
            "  1.39609575e-02 -3.11940134e-01 -1.89233214e-01  3.27265143e-01\n",
            "  1.87814206e-01  2.15351629e+00  4.18717623e-01  2.81424195e-01\n",
            " -2.08045438e-01  2.58775234e-01  9.16843474e-01  4.78715420e-01\n",
            " -4.41303939e-01 -3.91951531e-01 -4.83689547e-01 -8.98625791e-01\n",
            " -3.27187121e-01 -5.82825422e-01  2.68642277e-01 -2.64036655e-01\n",
            " -9.04656112e-01 -1.18227339e+00  7.54080951e-01  6.56813145e-01\n",
            "  4.33734268e-01  4.54640239e-01  6.63658798e-01 -2.41912723e-01\n",
            " -6.65155947e-01  7.46203661e-01 -4.30985451e-01 -6.46802008e-01\n",
            " -5.23123980e-01  5.08941710e-01 -7.20985353e-01 -3.89122486e-01\n",
            "  3.98726553e-01  1.62122235e-01 -2.22419091e-02 -3.06984305e-01\n",
            " -6.28670931e-01 -1.47272572e-02  2.81883404e-03  2.70131916e-01\n",
            " -7.91965485e-01 -2.83635408e-01 -3.93410742e-01 -5.44047892e-01\n",
            "  9.14849043e-01  9.06546563e-02 -1.82819977e-01 -8.25504839e-01\n",
            "  6.76935911e-02 -4.48783070e-01  3.98798347e-01  1.00795008e-01\n",
            " -1.80954903e-01  1.39449865e-01  3.89148355e-01 -2.44976997e-01\n",
            "  6.32147491e-01 -1.28772843e+00  1.16800800e-01  8.62842858e-01\n",
            " -4.24940467e-01 -2.71222085e-01 -1.06729960e+00 -7.86407948e-01\n",
            " -5.52611947e-01 -3.04533511e-01 -1.12898409e+00 -5.30885935e-01\n",
            " -9.60246474e-02 -5.79741448e-02  1.56022951e-01  2.09772021e-01\n",
            "  5.17933905e-01 -2.35482186e-01  1.27828324e+00  1.32939923e+00\n",
            "  2.15842679e-01 -4.02838767e-01  5.52634299e-02 -1.14086950e+00\n",
            " -2.04101987e-02  6.00905865e-02 -4.22675014e-01 -6.14140257e-02\n",
            " -3.24203759e-01 -6.55496001e-01  1.51304865e+00  9.82298315e-01\n",
            " -1.49701083e+00  6.32375240e-01 -5.76758385e-01  1.53662860e-01\n",
            "  1.20125934e-01  1.03844285e+00 -7.18387246e-01  9.51597333e-01\n",
            "  9.90746081e-01 -1.11677837e+00  6.92402601e-01 -6.75976157e-01\n",
            "  4.69834328e-01 -6.64737582e-01  1.08717620e-01  4.18288372e-02\n",
            "  6.17617726e-01  6.15677163e-02  4.95425969e-01 -5.38564548e-02\n",
            " -4.20945287e-01 -5.39415658e-01  1.33743560e+00 -9.53053832e-02\n",
            "  3.67457777e-01  6.63219810e-01 -5.71638227e-01 -1.36932695e+00\n",
            "  3.95181715e-01 -1.39693618e-01  7.49166250e-01 -2.37038717e-01\n",
            " -7.83415914e-01  3.50664407e-01 -4.58193630e-01  3.33813429e-01\n",
            "  2.65181899e-01  9.19613719e-01 -1.03027582e+00 -9.36235607e-01\n",
            " -8.41981590e-01 -7.78259486e-02 -2.18225300e-01 -1.36768073e-02\n",
            " -2.39639580e-01  2.28455082e-01 -3.83250207e-01 -1.98874436e-03\n",
            "  3.42941657e-02 -3.51395726e-01 -6.83050394e-01  2.12460667e-01\n",
            "  3.46731305e-01 -9.07819748e-01  8.97196949e-01  1.48031741e-01\n",
            " -2.24192977e-01 -8.39394093e-01  4.03738111e-01  8.63179982e-01\n",
            " -1.00965917e+00  3.24300408e-01 -1.06875837e+00 -1.02332830e+00\n",
            " -1.47690445e-01  4.04058546e-01  8.86387408e-01  4.41889077e-01\n",
            "  7.83144236e-01 -7.80705333e-01  1.40550405e-01  3.88356715e-01\n",
            " -1.62733996e+00 -7.97432661e-03 -5.96791804e-01 -9.69842315e-01\n",
            "  2.57825226e-01  3.48706573e-01  6.04129851e-01 -4.47508901e-01\n",
            "  3.39375079e-01  4.14121926e-01 -4.45584714e-01 -1.34877756e-01\n",
            "  3.09527516e-01  7.72425607e-02 -6.62304938e-01  1.55062690e-01\n",
            " -1.18165895e-01 -5.32958210e-01  4.62383032e-01  1.67293534e-01\n",
            " -3.46481092e-02  2.83189118e-02  8.47080648e-02  7.38954663e-01\n",
            " -6.79699704e-02 -1.39052713e+00  2.70790040e-01 -6.76048636e-01\n",
            " -3.18992376e-01 -5.74067950e-01  9.00722146e-01 -6.95263684e-01\n",
            " -1.04664743e+00  3.33620012e-01  9.50325251e-01 -7.97607243e-01\n",
            " -3.89389664e-01 -9.46523905e-01 -2.06445187e-01 -1.42103374e-01\n",
            " -1.61871135e-01 -4.60675031e-01 -2.48031929e-01  1.64927888e+00\n",
            " -9.76503670e-01 -5.75440899e-02  5.44765472e-01 -1.54263824e-01\n",
            "  6.47192076e-03  2.65933633e-01 -4.09027562e-02 -6.26330495e-01\n",
            "  7.14734852e-01  7.79256046e-01 -1.14534950e+00 -4.82087463e-01\n",
            "  7.39238441e-01  3.57657075e-01 -7.99479306e-01 -4.10305202e-01\n",
            " -1.45702422e-01 -1.35917470e-01 -7.46037900e-01 -1.41554403e+00\n",
            " -8.54040235e-02 -5.96440971e-01 -4.94640678e-01 -2.65567422e-01\n",
            " -2.03617930e-01 -4.69333827e-02  8.24071288e-01 -1.16104221e+00\n",
            " -4.52196151e-02  3.76862079e-01 -7.82842264e-02  5.18004954e-01\n",
            "  1.65928930e-01 -2.07482308e-01 -3.64405476e-02  1.27878115e-02\n",
            " -1.26907468e-01  9.37317431e-01  1.80202395e-01 -2.38050461e-01\n",
            "  4.05810535e-01  4.20228899e-01 -9.06279027e-01  2.95552760e-01\n",
            "  3.86034727e-01 -1.12142539e+00  3.20339948e-01 -5.03660560e-01\n",
            "  4.42612052e-01 -8.65702748e-01  2.72067368e-01  6.13543987e-02\n",
            " -4.71191257e-01 -9.88569379e-01 -5.51414490e-01  3.03528965e-01\n",
            "  1.56179518e-02 -3.88267219e-01 -1.26916361e+00  4.84648854e-01\n",
            "  2.46969849e-01  7.45773792e-01 -2.52703816e-01  3.17138761e-01\n",
            "  7.65271127e-01 -1.64829731e-01  9.81029272e-02 -4.75517035e-01\n",
            " -6.29916966e-01 -1.51017591e-01  1.30388558e+00 -2.06508636e-02\n",
            " -4.10353512e-01 -3.44578922e-01 -3.63857090e-01 -2.72202790e-02\n",
            "  2.27538809e-01 -3.55319262e-01  4.65323031e-01  1.18639374e+00\n",
            "  5.64928532e-01 -6.83596969e-01 -2.89285034e-01  1.47235489e+00\n",
            " -1.92199394e-01  3.93960536e-01  8.49826634e-03  3.94482374e-01\n",
            " -1.38408050e-01  1.67729795e-01  4.88432050e-02  6.64951086e-01\n",
            "  9.24562454e-01  2.06364602e-01 -9.84661132e-02  8.84872139e-01\n",
            "  1.10704291e+00 -5.30437589e-01 -1.11196183e-01 -8.52386832e-01\n",
            "  1.44313478e+00 -7.50627935e-01 -1.61205128e-01  1.30244207e+00\n",
            "  3.25885296e-01  6.48260593e-01 -8.00418794e-01 -9.39200699e-01\n",
            " -1.02969325e+00 -9.56900954e-01  8.38677585e-01  6.49982765e-02\n",
            "  3.10871564e-02  1.10434854e+00  7.53159285e-01  5.07939696e-01\n",
            " -1.72303781e-01 -3.62739205e-01  2.44383126e-01  6.70330226e-02\n",
            "  2.76301578e-02 -1.15725350e+00 -9.57388580e-01 -1.70401350e-01]\n"
          ]
        }
      ],
      "source": [
        "emb_mask_taylor = app.get(crop_img_inf)[0].embedding\n",
        "print(emb_mask_taylor)"
      ]
    },
    {
      "cell_type": "code",
      "execution_count": 56,
      "metadata": {
        "id": "hcDMRA-PRxld"
      },
      "outputs": [],
      "source": [
        "unique_labels = list(dict.fromkeys(labels)) ## lista formada a partir das keys do nosso dicionário"
      ]
    },
    {
      "cell_type": "code",
      "execution_count": 57,
      "metadata": {
        "id": "ittJ2tGYR9Dv"
      },
      "outputs": [],
      "source": [
        "real_imgs = []\n",
        "\n",
        "for unique_label in unique_labels:\n",
        "    temp = imgs[unique_label] # imagem correspondente àquela label no dicionário\n",
        "    for img in temp:\n",
        "        real_imgs.append(img)\n"
      ]
    },
    {
      "cell_type": "code",
      "execution_count": 59,
      "metadata": {
        "id": "JP5hU8yAXC_2",
        "colab": {
          "base_uri": "https://localhost:8080/"
        },
        "outputId": "19ba6d70-0d83-43d9-a350-afc98f59adce"
      },
      "outputs": [
        {
          "output_type": "stream",
          "name": "stdout",
          "text": [
            "Nearest neighbor found in the database is Taylor Swift and is at a distance of 0.7980572581291199\n"
          ]
        }
      ],
      "source": [
        "dists, inds = nn.kneighbors(X=emb_mask_taylor.reshape(1,-1), n_neighbors=1, return_distance=True)\n",
        "\n",
        "# extrai a label correspondente do vizinho mais próximo na lista labels\n",
        "pred_labels = [labels[i] for i in inds[0]]\n",
        "\n",
        "# printa a irnformação para o vizinho mais próximo\n",
        "label, dist = pred_labels[0], dists[0][0]\n",
        "print(f\"Nearest neighbor found in the database is {label} and is at a distance of {dist}\")\n",
        "\n"
      ]
    },
    {
      "cell_type": "markdown",
      "metadata": {
        "id": "o0jJQxXqbjR5"
      },
      "source": []
    }
  ],
  "metadata": {
    "accelerator": "GPU",
    "colab": {
      "provenance": []
    },
    "gpuClass": "standard",
    "kernelspec": {
      "display_name": "Python 3",
      "name": "python3"
    },
    "language_info": {
      "name": "python"
    }
  },
  "nbformat": 4,
  "nbformat_minor": 0
}